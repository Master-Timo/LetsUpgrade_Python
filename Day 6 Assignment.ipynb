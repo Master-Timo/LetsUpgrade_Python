{
 "cells": [
  {
   "cell_type": "markdown",
   "metadata": {},
   "source": [
    "# Bank Deposit/Withdraw System (Day 6 Assignment 1 )"
   ]
  },
  {
   "cell_type": "code",
   "execution_count": 6,
   "metadata": {},
   "outputs": [
    {
     "name": "stdout",
     "output_type": "stream",
     "text": [
      "Please Enter Your Name : Timo\n",
      "Hello!!! Welcome  Timo\n",
      "Enter amount to be Deposited: 500\n",
      "\n",
      " Amount Deposited: 500.0\n",
      "Enter amount to be Withdrawn: 499\n",
      "\n",
      " You Withdrew: 499.0\n",
      "\n",
      " Net Available Balance= 1.0\n"
     ]
    }
   ],
   "source": [
    "\n",
    "class bank_account: \n",
    "    def __init__(self,ownerName):\n",
    "        self.owner = ownerName\n",
    "        self.balance=0\n",
    "        print(\"Hello!!! Welcome \",self.owner) \n",
    "  \n",
    "    def deposit(self): \n",
    "        amount=float(input(\"Enter amount to be Deposited: \")) \n",
    "        self.balance += amount \n",
    "        print(\"\\n Amount Deposited:\",amount) \n",
    "  \n",
    "    def withdraw(self): \n",
    "        amount = float(input(\"Enter amount to be Withdrawn: \")) \n",
    "        if self.balance>=amount: \n",
    "            self.balance-=amount \n",
    "            print(\"\\n You Withdrew:\", amount) \n",
    "        else: \n",
    "            print(\"\\n Insufficient balance  \")\n",
    "            \n",
    "\n",
    "# Driver Code\n",
    "   \n",
    "# creating an object of class \n",
    "ownerName = input (\"Please Enter Your Name : \")\n",
    "bank_obj = bank_account(ownerName) \n",
    "   \n",
    "# Calling functions with that class object \n",
    "bank_obj.deposit() \n",
    "bank_obj.withdraw()\n",
    "\n",
    "# Printing the remaining balance \n",
    "\n",
    "print(\"\\n Net Available Balance=\",bank_obj.balance)  "
   ]
  },
  {
   "cell_type": "markdown",
   "metadata": {},
   "source": [
    "# Cone (Day 6 Assignment 2)"
   ]
  },
  {
   "cell_type": "code",
   "execution_count": 1,
   "metadata": {},
   "outputs": [
    {
     "name": "stdout",
     "output_type": "stream",
     "text": [
      "Enter the radius of the cone : 5\n",
      "Enter the height of the cone : 2\n",
      "The of radius the given cone is        : 52.35987755982988\n",
      "The of surface area the given cone is  : 163.1297873220651\n"
     ]
    }
   ],
   "source": [
    "import math\n",
    "\n",
    "class cone:\n",
    "    def __init__(self, R, h):\n",
    "        self.height = h\n",
    "        self.radius = R\n",
    "    \n",
    "    def Volume(self):\n",
    "        return ((self.height/3)*math.pi*(self.radius**2))\n",
    "    \n",
    "    def surfaceArea(self):\n",
    "        return ((math.pi)*self.radius*(self.radius + (math.sqrt(self.height**2 + self.radius**2))))\n",
    "    \n",
    "    \n",
    "# Driver code     \n",
    "    \n",
    "# creating an object of class \n",
    "\n",
    "radius = int(input(\"Enter the radius of the cone : \")) \n",
    "heignt = int(input(\"Enter the height of the cone : \"))\n",
    "cone_obj = cone (radius, heignt) \n",
    "   \n",
    "# Calling functions with that class object \n",
    "volume = cone_obj.Volume()\n",
    "surface_Area = cone_obj.surfaceArea()\n",
    "\n",
    "print(\"The of radius the given cone is        :\" , volume)\n",
    "print(\"The of surface area the given cone is  :\", surface_Area)\n"
   ]
  },
  {
   "cell_type": "code",
   "execution_count": null,
   "metadata": {},
   "outputs": [],
   "source": []
  },
  {
   "cell_type": "code",
   "execution_count": null,
   "metadata": {},
   "outputs": [],
   "source": []
  },
  {
   "cell_type": "code",
   "execution_count": null,
   "metadata": {},
   "outputs": [],
   "source": []
  }
 ],
 "metadata": {
  "kernelspec": {
   "display_name": "Python 3",
   "language": "python",
   "name": "python3"
  },
  "language_info": {
   "codemirror_mode": {
    "name": "ipython",
    "version": 3
   },
   "file_extension": ".py",
   "mimetype": "text/x-python",
   "name": "python",
   "nbconvert_exporter": "python",
   "pygments_lexer": "ipython3",
   "version": "3.8.3"
  }
 },
 "nbformat": 4,
 "nbformat_minor": 4
}
