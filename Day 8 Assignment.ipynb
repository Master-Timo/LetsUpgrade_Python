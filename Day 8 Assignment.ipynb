{
 "cells": [
  {
   "cell_type": "markdown",
   "metadata": {},
   "source": [
    "# Day 8 Assignment 1 - Decorator Function"
   ]
  },
  {
   "cell_type": "code",
   "execution_count": 24,
   "metadata": {},
   "outputs": [],
   "source": [
    "def getInput(calculate_fun):\n",
    "    \n",
    "    def wrap_function():\n",
    "        a = int(input(\"Enter lower bound value - \"))\n",
    "        b = int(input(\"Enter upper bound value - \"))\n",
    "        \n",
    "        calculate_fun(a,b)   \n",
    "    \n",
    "    return wrap_function"
   ]
  },
  {
   "cell_type": "code",
   "execution_count": 25,
   "metadata": {},
   "outputs": [],
   "source": [
    "# calling decorator for input\n",
    "\n",
    "@getInput\n",
    "\n",
    "def oddHandler(lower_bound, upper_bound):\n",
    "    if lower_bound == upper_bound :\n",
    "            print (\"No odd numbers in the given range\")\n",
    "    else:\n",
    "        print(\"\\nThe Odd numbers in the range\",lower_bound,\"and\",upper_bound,\"is :\\n\")\n",
    "        for n in range(lower_bound, upper_bound + 1):       \n",
    "            if n % 2 != 0:            \n",
    "                print(n, end = \" \")"
   ]
  },
  {
   "cell_type": "code",
   "execution_count": 26,
   "metadata": {},
   "outputs": [
    {
     "name": "stdout",
     "output_type": "stream",
     "text": [
      "Enter lower bound value - 55\n",
      "Enter upper bound value - 82\n",
      "\n",
      "The Odd numbers in the range 55 and 82 is :\n",
      "\n",
      "55 57 59 61 63 65 67 69 71 73 75 77 79 81 "
     ]
    }
   ],
   "source": [
    "    oddHandler()\n"
   ]
  },
  {
   "cell_type": "markdown",
   "metadata": {},
   "source": [
    "# Day 8  Assignment 2 - Exception Handling"
   ]
  },
  {
   "cell_type": "code",
   "execution_count": 27,
   "metadata": {},
   "outputs": [
    {
     "name": "stdout",
     "output_type": "stream",
     "text": [
      "Writing exception_handling.txt\n"
     ]
    }
   ],
   "source": [
    "%%writefile exception_handling.txt\n",
    "\n",
    "This is a sample test file for the exception handling practice in python letsupgrade Batch 7."
   ]
  },
  {
   "cell_type": "code",
   "execution_count": 30,
   "metadata": {},
   "outputs": [],
   "source": [
    "file = open(\"exception_handling.txt\",\"r\")"
   ]
  },
  {
   "cell_type": "code",
   "execution_count": 32,
   "metadata": {},
   "outputs": [
    {
     "name": "stdout",
     "output_type": "stream",
     "text": [
      "Error has occured\n",
      "Error message is : not writable\n",
      "Exception Handled !!\n"
     ]
    }
   ],
   "source": [
    "try:    \n",
    "    file.write(\"Lets Try updating this File now\")    \n",
    "    print(\"Write operation has done successfully in read only mode.\")\n",
    "    \n",
    "except Exception as e:    \n",
    "    print(\"Error has occured\")    \n",
    "    print(\"Error message is :\",e)\n",
    "finally:\n",
    "    print (\"Exception Handled !!\")\n",
    "    file.close()"
   ]
  }
 ],
 "metadata": {
  "kernelspec": {
   "display_name": "Python 3",
   "language": "python",
   "name": "python3"
  },
  "language_info": {
   "codemirror_mode": {
    "name": "ipython",
    "version": 3
   },
   "file_extension": ".py",
   "mimetype": "text/x-python",
   "name": "python",
   "nbconvert_exporter": "python",
   "pygments_lexer": "ipython3",
   "version": "3.8.3"
  }
 },
 "nbformat": 4,
 "nbformat_minor": 4
}
